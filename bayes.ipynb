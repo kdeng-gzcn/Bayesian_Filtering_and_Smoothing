{
 "cells": [
  {
   "cell_type": "code",
   "execution_count": 1,
   "metadata": {},
   "outputs": [],
   "source": [
    "import numpy as np"
   ]
  },
  {
   "cell_type": "markdown",
   "metadata": {},
   "source": [
    "# Q1"
   ]
  },
  {
   "cell_type": "code",
   "execution_count": 2,
   "metadata": {},
   "outputs": [],
   "source": [
    "Y = [8.0, 42.2, 16.8, 44.8, 2.7]"
   ]
  },
  {
   "cell_type": "code",
   "execution_count": 3,
   "metadata": {},
   "outputs": [],
   "source": [
    "a, b = 4, 120"
   ]
  },
  {
   "cell_type": "code",
   "execution_count": 4,
   "metadata": {},
   "outputs": [],
   "source": [
    "MAP = (a + len(Y) - 1) / (b + sum(Y))"
   ]
  },
  {
   "cell_type": "code",
   "execution_count": 5,
   "metadata": {},
   "outputs": [],
   "source": [
    "Fisher = (a + len(Y) - 1) / (MAP ** 2) "
   ]
  },
  {
   "cell_type": "code",
   "execution_count": 6,
   "metadata": {},
   "outputs": [
    {
     "data": {
      "text/plain": [
       "(0.03411513859275053, 0.012061522920026397)"
      ]
     },
     "execution_count": 6,
     "metadata": {},
     "output_type": "execute_result"
    }
   ],
   "source": [
    "MAP, np.sqrt(1 / np.array(Fisher))"
   ]
  },
  {
   "cell_type": "markdown",
   "metadata": {},
   "source": [
    "# Q2"
   ]
  },
  {
   "cell_type": "code",
   "execution_count": 7,
   "metadata": {},
   "outputs": [],
   "source": [
    "Y = [0.707, 1.145, 0.886, 1.116, 0.928]"
   ]
  },
  {
   "cell_type": "code",
   "execution_count": 8,
   "metadata": {},
   "outputs": [],
   "source": [
    "import math"
   ]
  },
  {
   "cell_type": "code",
   "execution_count": 9,
   "metadata": {},
   "outputs": [],
   "source": [
    "MAP = (4 - math.sqrt(16 + sum(Y))) / -0.5"
   ]
  },
  {
   "cell_type": "code",
   "execution_count": 10,
   "metadata": {},
   "outputs": [
    {
     "data": {
      "text/plain": [
       "1.1174557854699803"
      ]
     },
     "execution_count": 10,
     "metadata": {},
     "output_type": "execute_result"
    }
   ],
   "source": [
    "MAP"
   ]
  },
  {
   "cell_type": "code",
   "execution_count": 11,
   "metadata": {},
   "outputs": [],
   "source": [
    "a, b = 2, 0.25"
   ]
  },
  {
   "cell_type": "code",
   "execution_count": 12,
   "metadata": {},
   "outputs": [],
   "source": [
    "MAP = (a + len(Y) - 1) / (b + sum(Y))"
   ]
  },
  {
   "cell_type": "code",
   "execution_count": 13,
   "metadata": {},
   "outputs": [
    {
     "data": {
      "text/plain": [
       "1.192368839427663"
      ]
     },
     "execution_count": 13,
     "metadata": {},
     "output_type": "execute_result"
    }
   ],
   "source": [
    "MAP"
   ]
  },
  {
   "cell_type": "code",
   "execution_count": 14,
   "metadata": {},
   "outputs": [],
   "source": [
    "Y = [0.707, 1.145, 0.886, 1.116, 0.928]\n",
    "\n",
    "from scipy.stats import weibull_min, gamma\n",
    "\n",
    "weibull_example = weibull_min(c=1.5, scale=2) \n",
    "gamma_example = gamma(a=2, scale=3)"
   ]
  },
  {
   "cell_type": "code",
   "execution_count": 15,
   "metadata": {},
   "outputs": [
    {
     "name": "stdout",
     "output_type": "stream",
     "text": [
      "1.4352\n",
      "1.4962\n",
      "1.4851\n",
      "1.4254\n"
     ]
    }
   ],
   "source": [
    "for alpha in [1.4352,1.4962,1.4851,1.4254]:\n",
    "    print(alpha)\n",
    " "
   ]
  },
  {
   "cell_type": "markdown",
   "metadata": {},
   "source": [
    "# Q3"
   ]
  },
  {
   "cell_type": "code",
   "execution_count": 16,
   "metadata": {},
   "outputs": [],
   "source": [
    "X = [3, 4, 3, 3, 1, 2, 3, 2, 2, 6]"
   ]
  },
  {
   "cell_type": "code",
   "execution_count": 17,
   "metadata": {},
   "outputs": [],
   "source": [
    "def probability_distribution(x):\n",
    "    # Define the probability distribution\n",
    "    probabilities = {\n",
    "        1: 1/3,\n",
    "        2: 2/9,\n",
    "        3: 1/9,\n",
    "        4: 5/18,\n",
    "        5: 1/36,\n",
    "        6: 1/36\n",
    "    }\n",
    "    \n",
    "    # Return the probability if x is in the distribution, otherwise return 0\n",
    "    return probabilities.get(x, 0)\n"
   ]
  },
  {
   "cell_type": "code",
   "execution_count": 18,
   "metadata": {},
   "outputs": [],
   "source": [
    "Samples = []\n",
    "for x in X:\n",
    "    sample = x * probability_distribution(x) * 6\n",
    "    Samples.append(sample)"
   ]
  },
  {
   "cell_type": "code",
   "execution_count": 19,
   "metadata": {},
   "outputs": [],
   "source": [
    "EX = sum(Samples) / len(Samples)"
   ]
  },
  {
   "cell_type": "code",
   "execution_count": 20,
   "metadata": {},
   "outputs": [
    {
     "data": {
      "text/plain": [
       "2.5666666666666673"
      ]
     },
     "execution_count": 20,
     "metadata": {},
     "output_type": "execute_result"
    }
   ],
   "source": [
    "EX"
   ]
  },
  {
   "cell_type": "code",
   "execution_count": 21,
   "metadata": {},
   "outputs": [],
   "source": [
    "Vars = []\n",
    "for x in X:\n",
    "    value = (x - EX) ** 2 * probability_distribution(x) * 6\n",
    "    Vars.append(value)"
   ]
  },
  {
   "cell_type": "code",
   "execution_count": 22,
   "metadata": {},
   "outputs": [],
   "source": [
    "VarX = sum(Vars) / len(Vars)"
   ]
  },
  {
   "cell_type": "code",
   "execution_count": 23,
   "metadata": {},
   "outputs": [
    {
     "data": {
      "text/plain": [
       "1.2082777777777782"
      ]
     },
     "execution_count": 23,
     "metadata": {},
     "output_type": "execute_result"
    }
   ],
   "source": [
    "VarX"
   ]
  },
  {
   "cell_type": "markdown",
   "metadata": {},
   "source": [
    "# Q4"
   ]
  },
  {
   "cell_type": "code",
   "execution_count": 24,
   "metadata": {},
   "outputs": [],
   "source": [
    "def target_distribution(x):\n",
    "    # Define the probability distribution\n",
    "    probabilities = {\n",
    "        0: 2/9,\n",
    "        1: 1/6,\n",
    "        2: 7/36,\n",
    "        3: 5/36,\n",
    "        4: 1/6,\n",
    "        5: 1/9\n",
    "    }\n",
    "    \n",
    "    # Return the probability if x is in the distribution, otherwise return 0\n",
    "    return probabilities.get(x, 0)\n"
   ]
  },
  {
   "cell_type": "code",
   "execution_count": 25,
   "metadata": {},
   "outputs": [],
   "source": [
    "def poisson_distribution(x):\n",
    "    # Define the probability distribution\n",
    "    probabilities = {\n",
    "        0: 0.01832,\n",
    "        1: 0.07326,\n",
    "        2: 0.14653,\n",
    "        3: 0.19537,\n",
    "        4: 0.19537,\n",
    "        5: 0.15629\n",
    "    }\n",
    "    \n",
    "    # Return the probability if x is in the distribution, otherwise return 0\n",
    "    return probabilities.get(x, 0)\n"
   ]
  },
  {
   "cell_type": "code",
   "execution_count": 26,
   "metadata": {},
   "outputs": [],
   "source": [
    "values = []\n",
    "for x in range(6):\n",
    "    value = target_distribution(x) / poisson_distribution(x)\n",
    "    values.append(value)\n"
   ]
  },
  {
   "cell_type": "code",
   "execution_count": 27,
   "metadata": {},
   "outputs": [
    {
     "data": {
      "text/plain": [
       "(12.1300339640951,\n",
       " [12.1300339640951,\n",
       "  2.275002275002275,\n",
       "  1.3269940929805806,\n",
       "  0.7109018216148277,\n",
       "  0.8530821859377933,\n",
       "  0.7109291132581169])"
      ]
     },
     "execution_count": 27,
     "metadata": {},
     "output_type": "execute_result"
    }
   ],
   "source": [
    "M = max(values)\n",
    "M, values"
   ]
  },
  {
   "cell_type": "code",
   "execution_count": 28,
   "metadata": {},
   "outputs": [
    {
     "data": {
      "text/plain": [
       "0.08244"
      ]
     },
     "execution_count": 28,
     "metadata": {},
     "output_type": "execute_result"
    }
   ],
   "source": [
    "1 / M"
   ]
  },
  {
   "cell_type": "code",
   "execution_count": 29,
   "metadata": {},
   "outputs": [
    {
     "data": {
      "text/plain": [
       "2.3698447355652594"
      ]
     },
     "execution_count": 29,
     "metadata": {},
     "output_type": "execute_result"
    }
   ],
   "source": [
    "M * poisson_distribution(3)"
   ]
  },
  {
   "cell_type": "code",
   "execution_count": null,
   "metadata": {},
   "outputs": [],
   "source": []
  }
 ],
 "metadata": {
  "kernelspec": {
   "display_name": "kalman",
   "language": "python",
   "name": "python3"
  },
  "language_info": {
   "codemirror_mode": {
    "name": "ipython",
    "version": 3
   },
   "file_extension": ".py",
   "mimetype": "text/x-python",
   "name": "python",
   "nbconvert_exporter": "python",
   "pygments_lexer": "ipython3",
   "version": "3.9.18"
  }
 },
 "nbformat": 4,
 "nbformat_minor": 2
}
